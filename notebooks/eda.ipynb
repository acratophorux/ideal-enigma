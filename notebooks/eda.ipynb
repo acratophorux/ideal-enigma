{
 "cells": [
  {
   "cell_type": "code",
   "execution_count": 1,
   "metadata": {
    "collapsed": true,
    "jupyter": {
     "outputs_hidden": true
    }
   },
   "outputs": [],
   "source": [
    "import pandas as pd\n",
    "import numpy as np\n",
    "from pathlib import Path"
   ]
  },
  {
   "cell_type": "code",
   "execution_count": 2,
   "metadata": {
    "collapsed": true,
    "jupyter": {
     "outputs_hidden": true
    }
   },
   "outputs": [],
   "source": [
    "def load_data():\n",
    "    data_dir = Path('../data/raw')\n",
    "\n",
    "    # load continuous dataset\n",
    "    continuous_data = pd.read_csv(data_dir / 'continuous-dataset.csv')\n",
    "\n",
    "    # load weekly pre-dispatch forecast\n",
    "    forecast_data = pd.read_csv(data_dir / 'weekly-pre-dispatch-forecast.csv')\n",
    "\n",
    "    # load train and test dataframes\n",
    "    train_data = pd.read_excel(data_dir / 'train_dataframes.xlsx', sheet_name=None)\n",
    "    test_data = pd.read_excel(data_dir / 'test_dataframes.xlsx', sheet_name=None)\n",
    "\n",
    "    return continuous_data, forecast_data, train_data, test_data"
   ]
  },
  {
   "cell_type": "code",
   "execution_count": null,
   "metadata": {
    "collapsed": true,
    "jupyter": {
     "outputs_hidden": true
    }
   },
   "outputs": [],
   "source": []
  },
  {
   "cell_type": "code",
   "execution_count": 21,
   "metadata": {
    "tags": []
   },
   "outputs": [],
   "source": [
    "def summarize_data(continuous_data, forecast_data, train_data):\n",
    "    \"\"\"\n",
    "    Summary of continuous, forecast and train dataframes\n",
    "    \"\"\"\n",
    "\n",
    "    print(f\"----\\nContinuous data samples:\\n\")\n",
    "    print(continuous_data.head())\n",
    "    print(f\"----\\nContinuous data info:\\n\")\n",
    "    print(continuous_data.info())\n",
    "    \n",
    "    print(f\"----\\nForecast data samples:\\n\")\n",
    "    print(forecast_data.head())\n",
    "    print(f\"----\\nForecast data info:\\n\")\n",
    "    print(forecast_data.info())\n",
    "\n",
    "    print(f\"----\\nTrain data (sheet 0) samples:\\n\")\n",
    "    print(train_data[list(train_data.keys())[0]].head())\n",
    "    print(f\"----\\nTrain data (sheet 0) info:\\n\")\n",
    "    print(train_data[list(train_data.keys())[0]].info())\n"
   ]
  },
  {
   "cell_type": "code",
   "execution_count": 4,
   "metadata": {
    "collapsed": true,
    "jupyter": {
     "outputs_hidden": true
    }
   },
   "outputs": [],
   "source": [
    "continuous_data, forecast_data, train_data, test_data = load_data()"
   ]
  },
  {
   "cell_type": "code",
   "execution_count": 22,
   "metadata": {
    "tags": []
   },
   "outputs": [
    {
     "name": "stdout",
     "output_type": "stream",
     "text": [
      "----\n",
      "Continuous data samples:\n",
      "\n",
      "              datetime  nat_demand    T2M_toc  QV2M_toc   TQL_toc    W2M_toc  \\\n",
      "0  2015-01-03 01:00:00    970.3450  25.865259  0.018576  0.016174  21.850546   \n",
      "1  2015-01-03 02:00:00    912.1755  25.899255  0.018653  0.016418  22.166944   \n",
      "2  2015-01-03 03:00:00    900.2688  25.937280  0.018768  0.015480  22.454911   \n",
      "3  2015-01-03 04:00:00    889.9538  25.957544  0.018890  0.016273  22.110481   \n",
      "4  2015-01-03 05:00:00    893.6865  25.973840  0.018981  0.017281  21.186089   \n",
      "\n",
      "     T2M_san  QV2M_san   TQL_san    W2M_san    T2M_dav  QV2M_dav   TQL_dav  \\\n",
      "0  23.482446  0.017272  0.001855  10.328949  22.662134  0.016562  0.096100   \n",
      "1  23.399255  0.017265  0.001327  10.681517  22.578943  0.016509  0.087646   \n",
      "2  23.343530  0.017211  0.001428  10.874924  22.531030  0.016479  0.078735   \n",
      "3  23.238794  0.017128  0.002599  10.518620  22.512231  0.016487  0.068390   \n",
      "4  23.075403  0.017059  0.001729   9.733589  22.481653  0.016456  0.064362   \n",
      "\n",
      "    W2M_dav  Holiday_ID  holiday  school  \n",
      "0  5.364148           0        0       0  \n",
      "1  5.572471           0        0       0  \n",
      "2  5.871184           0        0       0  \n",
      "3  5.883621           0        0       0  \n",
      "4  5.611724           0        0       0  \n",
      "----\n",
      "Continuous data info:\n",
      "\n",
      "<class 'pandas.core.frame.DataFrame'>\n",
      "RangeIndex: 48048 entries, 0 to 48047\n",
      "Data columns (total 17 columns):\n",
      " #   Column      Non-Null Count  Dtype  \n",
      "---  ------      --------------  -----  \n",
      " 0   datetime    48048 non-null  object \n",
      " 1   nat_demand  48048 non-null  float64\n",
      " 2   T2M_toc     48048 non-null  float64\n",
      " 3   QV2M_toc    48048 non-null  float64\n",
      " 4   TQL_toc     48048 non-null  float64\n",
      " 5   W2M_toc     48048 non-null  float64\n",
      " 6   T2M_san     48048 non-null  float64\n",
      " 7   QV2M_san    48048 non-null  float64\n",
      " 8   TQL_san     48048 non-null  float64\n",
      " 9   W2M_san     48048 non-null  float64\n",
      " 10  T2M_dav     48048 non-null  float64\n",
      " 11  QV2M_dav    48048 non-null  float64\n",
      " 12  TQL_dav     48048 non-null  float64\n",
      " 13  W2M_dav     48048 non-null  float64\n",
      " 14  Holiday_ID  48048 non-null  int64  \n",
      " 15  holiday     48048 non-null  int64  \n",
      " 16  school      48048 non-null  int64  \n",
      "dtypes: float64(13), int64(3), object(1)\n",
      "memory usage: 6.2+ MB\n",
      "None\n",
      "----\n",
      "Forecast data samples:\n",
      "\n",
      "        datetime  load_forecast\n",
      "0  1/2/2016 0:00         1056.9\n",
      "1  1/2/2016 1:00         1057.1\n",
      "2  1/2/2016 2:00          996.5\n",
      "3  1/2/2016 3:00          955.8\n",
      "4  1/2/2016 4:00          918.0\n",
      "----\n",
      "Forecast data info:\n",
      "\n",
      "<class 'pandas.core.frame.DataFrame'>\n",
      "RangeIndex: 40152 entries, 0 to 40151\n",
      "Data columns (total 2 columns):\n",
      " #   Column         Non-Null Count  Dtype  \n",
      "---  ------         --------------  -----  \n",
      " 0   datetime       40152 non-null  object \n",
      " 1   load_forecast  40152 non-null  float64\n",
      "dtypes: float64(1), object(1)\n",
      "memory usage: 627.5+ KB\n",
      "None\n",
      "----\n",
      "Train data (sheet 0) samples:\n",
      "\n",
      "             datetime  week_X-2  week_X-3  week_X-4      MA_X-4  dayOfWeek  \\\n",
      "0 2015-01-31 01:00:00  962.2865  906.9580  970.3450  938.004850          1   \n",
      "1 2015-01-31 02:00:00  933.3221  863.5135  912.1755  900.284075          1   \n",
      "2 2015-01-31 03:00:00  903.9817  848.4447  900.2688  881.704325          1   \n",
      "3 2015-01-31 04:00:00  900.9995  839.8821  889.9538  876.458825          1   \n",
      "4 2015-01-31 05:00:00  904.3481  847.1073  893.6865  879.190775          1   \n",
      "\n",
      "   weekend  holiday  Holiday_ID  hourOfDay    T2M_toc    DEMAND  \n",
      "0        1        0           0          1  25.308496  954.2018  \n",
      "1        1        0           0          2  25.141443  913.8660  \n",
      "2        1        0           0          3  25.006738  903.3637  \n",
      "3        1        0           0          4  24.899713  889.0806  \n",
      "4        1        0           0          5  24.821558  910.1472  \n",
      "----\n",
      "Train data (sheet 0) info:\n",
      "\n",
      "<class 'pandas.core.frame.DataFrame'>\n",
      "RangeIndex: 36720 entries, 0 to 36719\n",
      "Data columns (total 12 columns):\n",
      " #   Column      Non-Null Count  Dtype         \n",
      "---  ------      --------------  -----         \n",
      " 0   datetime    36720 non-null  datetime64[ns]\n",
      " 1   week_X-2    36720 non-null  float64       \n",
      " 2   week_X-3    36720 non-null  float64       \n",
      " 3   week_X-4    36720 non-null  float64       \n",
      " 4   MA_X-4      36720 non-null  float64       \n",
      " 5   dayOfWeek   36720 non-null  int64         \n",
      " 6   weekend     36720 non-null  int64         \n",
      " 7   holiday     36720 non-null  int64         \n",
      " 8   Holiday_ID  36720 non-null  int64         \n",
      " 9   hourOfDay   36720 non-null  int64         \n",
      " 10  T2M_toc     36720 non-null  float64       \n",
      " 11  DEMAND      36720 non-null  float64       \n",
      "dtypes: datetime64[ns](1), float64(6), int64(5)\n",
      "memory usage: 3.4 MB\n",
      "None\n"
     ]
    }
   ],
   "source": [
    "summarize_data(continuous_data, forecast_data, train_data)"
   ]
  },
  {
   "cell_type": "code",
   "execution_count": 23,
   "metadata": {
    "tags": []
   },
   "outputs": [
    {
     "name": "stdout",
     "output_type": "stream",
     "text": [
      "36720\n",
      "37728\n",
      "38232\n",
      "39072\n",
      "39744\n",
      "40416\n",
      "41088\n",
      "41592\n",
      "42768\n",
      "43104\n",
      "43944\n",
      "44616\n",
      "46296\n",
      "46968\n"
     ]
    }
   ],
   "source": [
    "for sheet in list(train_data.keys()):\n",
    "    print(len(train_data[sheet]))"
   ]
  }
 ],
 "metadata": {
  "kernelspec": {
   "display_name": "electricity-load-forecast-project",
   "language": "python",
   "name": "electricity-load-forecast-project"
  },
  "language_info": {
   "codemirror_mode": {
    "name": "ipython",
    "version": 3
   },
   "file_extension": ".py",
   "mimetype": "text/x-python",
   "name": "python",
   "nbconvert_exporter": "python",
   "pygments_lexer": "ipython3",
   "version": "3.11.2"
  }
 },
 "nbformat": 4,
 "nbformat_minor": 4
}
