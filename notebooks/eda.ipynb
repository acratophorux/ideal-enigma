{
 "cells": [
  {
   "cell_type": "code",
   "execution_count": null,
   "metadata": {},
   "outputs": [],
   "source": [
    "import pandas as pd\n",
    "import numpy as np\n",
    "from pathlib import Path"
   ]
  },
  {
   "cell_type": "code",
   "execution_count": null,
   "metadata": {
    "tags": []
   },
   "outputs": [],
   "source": [
    "def load_data():\n",
    "    data_dir = Path('../data/raw')\n",
    "\n",
    "    # load continuous dataset\n",
    "    continuous_data = pd.read_csv(data_dir / 'continuous-dataset.csv')\n",
    "\n",
    "    # load weekly pre-dispatch forecast\n",
    "    forecast_data = pd.read_csv(data_dir / 'weekly-pre-dispatch-forecast.csv')\n",
    "\n",
    "    # load train and test dataframes\n",
    "    train_data = pd.read_excel(data_dir / 'train_dataframes.xlsx', sheet_name=None)\n",
    "    test_data = pd.read_excel(data_dir / 'test_dataframes.xlsx', sheet_name=None)\n",
    "\n",
    "    return continuous_data, forecast_data, train_data, test_data"
   ]
  },
  {
   "cell_type": "code",
   "execution_count": null,
   "metadata": {},
   "outputs": [],
   "source": []
  },
  {
   "cell_type": "code",
   "execution_count": null,
   "metadata": {
    "tags": []
   },
   "outputs": [],
   "source": [
    "def summarize_data(continuous_data, forecast_data, train_data):\n",
    "    \"\"\"\n",
    "    Summary of continuous, forecast and train dataframes\n",
    "    \"\"\"\n",
    "\n",
    "    print(f\"----\\nContinuous data samples:\\n\")\n",
    "    print(continuous_data.head())\n",
    "    print(f\"----\\nContinuous data info:\\n\")\n",
    "    print(continuous_data.info())\n",
    "    \n",
    "    print(f\"----\\nForecast data samples:\\n\")\n",
    "    print(forecast_data.head())\n",
    "    print(f\"----\\nForecast data info:\\n\")\n",
    "    print(forecast_data.info())\n",
    "\n",
    "    print(f\"----\\nTrain data (sheet 0) samples:\\n\")\n",
    "    print(train_data[list(train_data.keys())[0]].head())\n",
    "    print(f\"----\\nTrain data (sheet 0) info:\\n\")\n",
    "    print(train_data[list(train_data.keys())[0]].info())\n"
   ]
  },
  {
   "cell_type": "code",
   "execution_count": null,
   "metadata": {},
   "outputs": [],
   "source": [
    "continuous_data, forecast_data, train_data, test_data = load_data()"
   ]
  },
  {
   "cell_type": "code",
   "execution_count": null,
   "metadata": {
    "tags": []
   },
   "outputs": [],
   "source": [
    "summarize_data(continuous_data, forecast_data, train_data)"
   ]
  },
  {
   "cell_type": "code",
   "execution_count": null,
   "metadata": {
    "tags": []
   },
   "outputs": [],
   "source": [
    "def preprocess_sheet(data, sheet_name):\n",
    "    \"\"\"\n",
    "    Preprocess individual sheets from train or test data.\n",
    "    \"\"\"\n",
    "    print(f\"Missing values in {sheet_name}:\")\n",
    "    print(data.isnull().sum())\n",
    "    \n",
    "    # Handle missing values if any\n",
    "    # data = data.fillna(method='ffill')  # Forward fill as an example\n",
    "    \n",
    "    # Add any additional preprocessing steps here\n",
    "    # For example, you might want to add lag features or rolling statistics\n",
    "    \n",
    "    return data\n"
   ]
  },
  {
   "cell_type": "code",
   "execution_count": null,
   "metadata": {},
   "outputs": [],
   "source": [
    "def preprocess_train_test_data(train_data, test_data):\n",
    "    \"\"\"\n",
    "    Preprocess the train and test datasets.\n",
    "    \"\"\"\n",
    "    processed_train = {}\n",
    "    processed_test = {}\n",
    "    \n",
    "    for sheet_name, data in train_data.items():\n",
    "        print(f\"Processing train sheet {sheet_name} with {len(data)} entries\")\n",
    "        processed_train[sheet_name] = preprocess_sheet(data, f\"train_{sheet_name}\")\n",
    "    \n",
    "    for sheet_name, data in test_data.items():\n",
    "        print(f\"Processing test sheet {sheet_name} with {len(data)} entries\")\n",
    "        processed_test[sheet_name] = preprocess_sheet(data, f\"test_{sheet_name}\")\n",
    "    \n",
    "    return processed_train, processed_test\n"
   ]
  },
  {
   "cell_type": "code",
   "execution_count": null,
   "metadata": {},
   "outputs": [],
   "source": [
    "_, _ = preprocess_train_test_data(train_data, test_data)"
   ]
  }
 ],
 "metadata": {
  "kernelspec": {
   "display_name": "electricity-load-forecast-project",
   "language": "python",
   "name": "electricity-load-forecast-project"
  },
  "language_info": {
   "codemirror_mode": {
    "name": "ipython",
    "version": 3
   },
   "file_extension": ".py",
   "mimetype": "text/x-python",
   "name": "python",
   "nbconvert_exporter": "python",
   "pygments_lexer": "ipython3",
   "version": "3.11.2"
  }
 },
 "nbformat": 4,
 "nbformat_minor": 4
}
